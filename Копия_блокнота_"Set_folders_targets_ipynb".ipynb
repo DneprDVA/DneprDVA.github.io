{
  "nbformat": 4,
  "nbformat_minor": 0,
  "metadata": {
    "colab": {
      "provenance": [],
      "collapsed_sections": [],
      "mount_file_id": "1FbcIsLsBCx9ujp71g9-X9Ak8QpLggk75",
      "authorship_tag": "ABX9TyNhe8DrcJnKH8nACrRkAZyO",
      "include_colab_link": true
    },
    "kernelspec": {
      "name": "python3",
      "display_name": "Python 3"
    },
    "language_info": {
      "name": "python"
    }
  },
  "cells": [
    {
      "cell_type": "markdown",
      "metadata": {
        "id": "view-in-github",
        "colab_type": "text"
      },
      "source": [
        "<a href=\"https://colab.research.google.com/github/DneprDVA/DneprDVA.github.io/blob/master/%D0%9A%D0%BE%D0%BF%D0%B8%D1%8F_%D0%B1%D0%BB%D0%BE%D0%BA%D0%BD%D0%BE%D1%82%D0%B0_%22Set_folders_targets_ipynb%22.ipynb\" target=\"_parent\"><img src=\"https://colab.research.google.com/assets/colab-badge.svg\" alt=\"Open In Colab\"/></a>"
      ]
    },
    {
      "cell_type": "code",
      "source": [
        "pip install split-folders"
      ],
      "metadata": {
        "colab": {
          "base_uri": "https://localhost:8080/"
        },
        "id": "OT5HVHXd46vY",
        "outputId": "71a3eb77-4ea5-40e0-a2ae-29554c773c9b"
      },
      "execution_count": null,
      "outputs": [
        {
          "output_type": "stream",
          "name": "stdout",
          "text": [
            "Looking in indexes: https://pypi.org/simple, https://us-python.pkg.dev/colab-wheels/public/simple/\n",
            "Collecting split-folders\n",
            "  Downloading split_folders-0.5.1-py3-none-any.whl (8.4 kB)\n",
            "Installing collected packages: split-folders\n",
            "Successfully installed split-folders-0.5.1\n"
          ]
        }
      ]
    },
    {
      "cell_type": "code",
      "execution_count": null,
      "metadata": {
        "id": "DeG0Q8jIwdi5"
      },
      "outputs": [],
      "source": [
        "import shutil \n",
        "import os\n",
        "import pandas as pd  # pip install pandas\n",
        "from datetime import datetime\n",
        "import numpy as np\n",
        "from pandas import read_csv\n",
        "from matplotlib import pyplot\n",
        "from numpy import array\n",
        "import splitfolders"
      ]
    },
    {
      "cell_type": "code",
      "source": [
        "df = pd.read_csv('/content/drive/MyDrive/Datasets_H1/targets.csv')"
      ],
      "metadata": {
        "id": "48R-AoP6w3cy"
      },
      "execution_count": null,
      "outputs": []
    },
    {
      "cell_type": "markdown",
      "source": [
        "### Split files by labels(targets)"
      ],
      "metadata": {
        "id": "YBkHKipNFs7p"
      }
    },
    {
      "cell_type": "code",
      "source": [
        "# labels = df.sort_values('Label')\n",
        "# class_names = list(labels.Label.unique())\n",
        "# train_images = '/content/sample_data/Train_/'\n",
        "# train_cat = '/content/sample_data/Divided/'\n",
        "# for i in class_names:\n",
        "#     os.makedirs(os.path.join('/content/sample_data/Divided/',str(i)))"
      ],
      "metadata": {
        "id": "un8D0fkbw3fS"
      },
      "execution_count": null,
      "outputs": []
    },
    {
      "cell_type": "code",
      "source": [
        "# for c in class_names: # Category Name\n",
        "#     for i in list(labels[labels['Label']==c]['filename']): # Image Id\n",
        "#         get_image = os.path.join('/content/sample_data/Train_/', i) # Path to Images \n",
        "#         move_image_to_cat = shutil.copy(get_image, '/content/sample_data/Divided/'+str(c))"
      ],
      "metadata": {
        "id": "qkiHqvAmw3mU"
      },
      "execution_count": null,
      "outputs": []
    },
    {
      "cell_type": "markdown",
      "source": [
        "### Find files in folder"
      ],
      "metadata": {
        "id": "J0N_D11eF0vi"
      }
    },
    {
      "cell_type": "code",
      "source": [
        "# def find(name, path):\n",
        "#     for root, dirs, files in os.walk(path):\n",
        "#         if name in files:\n",
        "#             return os.path.join(root, name)\n",
        "# find('F_64060.jpg', '/content/sample_data/Divided/1/')"
      ],
      "metadata": {
        "id": "4n81KmHhEGMj"
      },
      "execution_count": null,
      "outputs": []
    },
    {
      "cell_type": "markdown",
      "source": [
        "### Zip and Unzip .tar files"
      ],
      "metadata": {
        "id": "HU373GSwFTMQ"
      }
    },
    {
      "cell_type": "code",
      "source": [
        "# !tar -xzvf \"/content/sample_data/All_pics/screenshots.tar.gz\" -C \"/content/sample_data/Train_\""
      ],
      "metadata": {
        "id": "VPzj9E1V5Dpc"
      },
      "execution_count": null,
      "outputs": []
    },
    {
      "cell_type": "code",
      "source": [
        "import tarfile\n",
        "import os.path\n",
        "\n",
        "def make_tarfile(output_filename, source_dir):\n",
        "    with tarfile.open(output_filename, \"w:gz\") as tar:\n",
        "        tar.add(source_dir, arcname=os.path.basename(source_dir))"
      ],
      "metadata": {
        "id": "gd9eIwx6zN0E"
      },
      "execution_count": null,
      "outputs": []
    },
    {
      "cell_type": "code",
      "source": [
        "make_tarfile('/content/sample_data/dataset_fx_1.tar.gz', '/content/sample_data/dataset_fx_1/')"
      ],
      "metadata": {
        "id": "6swrKVz9zOq0"
      },
      "execution_count": null,
      "outputs": []
    },
    {
      "cell_type": "markdown",
      "source": [
        "### Split files to train, val and test"
      ],
      "metadata": {
        "id": "0ftX8oLBFblR"
      }
    },
    {
      "cell_type": "code",
      "source": [
        "splitfolders.ratio('/content/sample_data/Divided/', output=\"/content/sample_data/dataset_fx_1\", seed=1337, ratio=(.7, 0.2,0.1)) "
      ],
      "metadata": {
        "id": "u5Og8HOWw3oi",
        "colab": {
          "base_uri": "https://localhost:8080/"
        },
        "outputId": "fcd09318-1136-44b1-fc13-ea6393478cd7"
      },
      "execution_count": null,
      "outputs": [
        {
          "output_type": "stream",
          "name": "stderr",
          "text": [
            "Copying files: 128130 files [05:38, 378.45 files/s]\n"
          ]
        }
      ]
    },
    {
      "cell_type": "markdown",
      "source": [
        "### Remove all files from folder"
      ],
      "metadata": {
        "id": "YRAGUQoUFImz"
      }
    },
    {
      "cell_type": "code",
      "source": [
        "path = '/content/drive/MyDrive/'\n",
        "for file_name in os.listdir(path):\n",
        "    # construct full file path\n",
        "    file = path + file_name\n",
        "    if os.path.isfile(file):        \n",
        "        os.remove(file)"
      ],
      "metadata": {
        "id": "RbtXgvkHw3qq"
      },
      "execution_count": null,
      "outputs": []
    },
    {
      "cell_type": "markdown",
      "source": [
        "###Move one file to another folder"
      ],
      "metadata": {
        "id": "zWJYL2XiE-sJ"
      }
    },
    {
      "cell_type": "code",
      "source": [
        "# import shutil\n",
        "\n",
        "# # absolute path\n",
        "# src_path = '/content/drive/MyDrive/Forex_pics/screenshots.tar.gz'\n",
        "# dst_path = '/content/sample_data/All_pics/screenshots.tar.gz'\n",
        "# shutil.move(src_path, dst_path)"
      ],
      "metadata": {
        "id": "owlHvUGgmM2o",
        "colab": {
          "base_uri": "https://localhost:8080/",
          "height": 35
        },
        "outputId": "325a7b4a-8e80-4371-dd5e-13c63d121c05"
      },
      "execution_count": null,
      "outputs": [
        {
          "output_type": "execute_result",
          "data": {
            "text/plain": [
              "'/content/sample_data/All_pics/screenshots.tar.gz'"
            ],
            "application/vnd.google.colaboratory.intrinsic+json": {
              "type": "string"
            }
          },
          "metadata": {},
          "execution_count": 4
        }
      ]
    },
    {
      "cell_type": "markdown",
      "source": [
        "###Move all files to another folder"
      ],
      "metadata": {
        "id": "h_Hmi9ciEwm6"
      }
    },
    {
      "cell_type": "code",
      "source": [
        "# import os\n",
        "# import shutil\n",
        "\n",
        "# source_folder = r\"E:\\pynative\\reports\\\\\"\n",
        "# destination_folder = r\"E:\\pynative\\account\\\\\"\n",
        "\n",
        "# # fetch all files\n",
        "# for file_name in os.listdir(source_folder):\n",
        "#     # construct full file path\n",
        "#     source = source_folder + file_name\n",
        "#     destination = destination_folder + file_name\n",
        "#     # move only files\n",
        "#     if os.path.isfile(source):\n",
        "#         shutil.move(source, destination)\n",
        "#         print('Moved:', file_name)"
      ],
      "metadata": {
        "id": "AfdY1P38_nDS"
      },
      "execution_count": null,
      "outputs": []
    },
    {
      "cell_type": "code",
      "source": [
        "import torch\n",
        "from torch import nn\n",
        "import os\n",
        "import requests\n",
        "import zipfile\n",
        "from pathlib import Path"
      ],
      "metadata": {
        "id": "rwhKXIM1V6Jf"
      },
      "execution_count": null,
      "outputs": []
    },
    {
      "cell_type": "code",
      "source": [
        "data_path = Path(\"/content/sample_data/\")\n",
        "image_path = data_path / \"dataset_fx_1\"\n",
        "def walk_through_dir(dir_path):\n",
        "  \"\"\"\n",
        "  Walks through dir_path returning its contents.\n",
        "  Args:\n",
        "    dir_path (str or pathlib.Path): target directory\n",
        "  \n",
        "  Returns:\n",
        "    A print out of:\n",
        "      number of subdiretories in dir_path\n",
        "      number of images (files) in each subdirectory\n",
        "      name of each subdirectory\n",
        "  \"\"\"\n",
        "  for dirpath, dirnames, filenames in os.walk(dir_path):\n",
        "    print(f\"There are {len(dirnames)} directories and {len(filenames)} images in '{dirpath}'.\")"
      ],
      "metadata": {
        "id": "3wB5gEzZV2ZQ"
      },
      "execution_count": null,
      "outputs": []
    },
    {
      "cell_type": "code",
      "source": [
        "walk_through_dir(image_path)"
      ],
      "metadata": {
        "colab": {
          "base_uri": "https://localhost:8080/"
        },
        "id": "Mxh-1qR5V96g",
        "outputId": "ce0ce204-c895-45bb-8bda-1ce86ba0c273"
      },
      "execution_count": null,
      "outputs": [
        {
          "output_type": "stream",
          "name": "stdout",
          "text": [
            "There are 3 directories and 0 images in '/content/sample_data/dataset_fx_1'.\n",
            "There are 3 directories and 0 images in '/content/sample_data/dataset_fx_1/test'.\n",
            "There are 0 directories and 1958 images in '/content/sample_data/dataset_fx_1/test/1'.\n",
            "There are 0 directories and 1953 images in '/content/sample_data/dataset_fx_1/test/2'.\n",
            "There are 0 directories and 8904 images in '/content/sample_data/dataset_fx_1/test/0'.\n",
            "There are 3 directories and 0 images in '/content/sample_data/dataset_fx_1/train'.\n",
            "There are 0 directories and 13706 images in '/content/sample_data/dataset_fx_1/train/1'.\n",
            "There are 0 directories and 13665 images in '/content/sample_data/dataset_fx_1/train/2'.\n",
            "There are 0 directories and 62319 images in '/content/sample_data/dataset_fx_1/train/0'.\n",
            "There are 3 directories and 0 images in '/content/sample_data/dataset_fx_1/val'.\n",
            "There are 0 directories and 3916 images in '/content/sample_data/dataset_fx_1/val/1'.\n",
            "There are 0 directories and 3904 images in '/content/sample_data/dataset_fx_1/val/2'.\n",
            "There are 0 directories and 17805 images in '/content/sample_data/dataset_fx_1/val/0'.\n"
          ]
        }
      ]
    },
    {
      "cell_type": "code",
      "source": [
        "a = shutil.disk_usage(\"/content/drive\")"
      ],
      "metadata": {
        "id": "xsGpvVWyvGbc"
      },
      "execution_count": null,
      "outputs": []
    },
    {
      "cell_type": "code",
      "source": [
        "a"
      ],
      "metadata": {
        "colab": {
          "base_uri": "https://localhost:8080/"
        },
        "id": "FH9yCa9VwBrr",
        "outputId": "b938568c-a3f4-4e5f-8808-368393526db1"
      },
      "execution_count": null,
      "outputs": [
        {
          "output_type": "execute_result",
          "data": {
            "text/plain": [
              "usage(total=16106127360, used=11153047552, free=4953079808)"
            ]
          },
          "metadata": {},
          "execution_count": 49
        }
      ]
    },
    {
      "cell_type": "code",
      "source": [
        "a[2]/1024/1024"
      ],
      "metadata": {
        "colab": {
          "base_uri": "https://localhost:8080/"
        },
        "id": "nANEdJylvSFC",
        "outputId": "99b340a6-1d0e-49f6-f25a-1b9fc5bd8d3a"
      },
      "execution_count": null,
      "outputs": [
        {
          "output_type": "execute_result",
          "data": {
            "text/plain": [
              "4723.625"
            ]
          },
          "metadata": {},
          "execution_count": 52
        }
      ]
    },
    {
      "cell_type": "code",
      "source": [
        "from google.colab import files\n",
        "files.download(\"/content/sample_data/dataset_fx_1.tar.gz\")"
      ],
      "metadata": {
        "colab": {
          "base_uri": "https://localhost:8080/",
          "height": 34
        },
        "id": "z1PFl2-CvSHK",
        "outputId": "721fd314-e6a7-49d6-d085-319e8ea2af94"
      },
      "execution_count": null,
      "outputs": [
        {
          "output_type": "display_data",
          "data": {
            "text/plain": [
              "<IPython.core.display.Javascript object>"
            ],
            "application/javascript": [
              "\n",
              "    async function download(id, filename, size) {\n",
              "      if (!google.colab.kernel.accessAllowed) {\n",
              "        return;\n",
              "      }\n",
              "      const div = document.createElement('div');\n",
              "      const label = document.createElement('label');\n",
              "      label.textContent = `Downloading \"${filename}\": `;\n",
              "      div.appendChild(label);\n",
              "      const progress = document.createElement('progress');\n",
              "      progress.max = size;\n",
              "      div.appendChild(progress);\n",
              "      document.body.appendChild(div);\n",
              "\n",
              "      const buffers = [];\n",
              "      let downloaded = 0;\n",
              "\n",
              "      const channel = await google.colab.kernel.comms.open(id);\n",
              "      // Send a message to notify the kernel that we're ready.\n",
              "      channel.send({})\n",
              "\n",
              "      for await (const message of channel.messages) {\n",
              "        // Send a message to notify the kernel that we're ready.\n",
              "        channel.send({})\n",
              "        if (message.buffers) {\n",
              "          for (const buffer of message.buffers) {\n",
              "            buffers.push(buffer);\n",
              "            downloaded += buffer.byteLength;\n",
              "            progress.value = downloaded;\n",
              "          }\n",
              "        }\n",
              "      }\n",
              "      const blob = new Blob(buffers, {type: 'application/binary'});\n",
              "      const a = document.createElement('a');\n",
              "      a.href = window.URL.createObjectURL(blob);\n",
              "      a.download = filename;\n",
              "      div.appendChild(a);\n",
              "      a.click();\n",
              "      div.remove();\n",
              "    }\n",
              "  "
            ]
          },
          "metadata": {}
        },
        {
          "output_type": "display_data",
          "data": {
            "text/plain": [
              "<IPython.core.display.Javascript object>"
            ],
            "application/javascript": [
              "download(\"download_ad7666ab-d620-4fe3-8b40-a7714f1dcf48\", \"dataset_fx_1.tar.gz\", 10226825945)"
            ]
          },
          "metadata": {}
        }
      ]
    },
    {
      "cell_type": "code",
      "source": [],
      "metadata": {
        "id": "4kXvey-EvSJL"
      },
      "execution_count": null,
      "outputs": []
    },
    {
      "cell_type": "code",
      "source": [],
      "metadata": {
        "id": "m7s1rF4LvSLj"
      },
      "execution_count": null,
      "outputs": []
    },
    {
      "cell_type": "code",
      "source": [],
      "metadata": {
        "id": "2Y4JS_5ovSNX"
      },
      "execution_count": null,
      "outputs": []
    }
  ]
}